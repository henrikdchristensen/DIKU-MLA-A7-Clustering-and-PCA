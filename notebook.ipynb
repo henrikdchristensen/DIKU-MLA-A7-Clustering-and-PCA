{
 "cells": [
  {
   "cell_type": "markdown",
   "metadata": {},
   "source": [
    "# 1. Clustering (25 points)"
   ]
  },
  {
   "cell_type": "markdown",
   "metadata": {},
   "source": [
    "Consider a dataset consisting of 6 data points $A,B,C,D,E,F$ as shown in Figure 1. The pair next to each point shows the x and y coordinates of each data point. We wish to group the datapoints into k clusters according to the K-means criterion, and using the `k-means++` algorithm (Arthur and Vassilvitskii, 2007).\n",
    "\n",
    "![image.png](docs/images/figure1.png)\n",
    "\n",
    "Figure 1: Dataset for Question 1\n",
    "\n",
    "1. Consider $k = 1$. What is the cluster center? (I.e., what is the centroid of the entire dataset?)\n",
    "Now consider $k = 3$. We would like to study how k-means++ performs clustering on this dataset.\n",
    "2. How does the algorithm choose the first initial cluster center $c_1$? (In other words, determine the probability of each data point being chosen as $c_1$).\n",
    "3. Conditioned on A being chosen as $c_1$, how does the algorithm choose $c_2$?\n",
    "4. Conditioned on $c_2 = F$ and $c_1 = A$, how does the algorithm choose $c_3$?\n",
    "5. (Optional) Suppose that the algorithm chooses $c_3 = B$ - hence, $c_1 = A, c_2 = F, c_3 = B$. Assume we stop here. Determine the clustering $C$ based on the cluster centers $c_1, c_2, c_3$ and compute the corresponding cost $\\phi$.\n",
    "_Recall that for the K-means problem, the cost_ $\\phi$ _of a dataset $X$ and a set of cluster centers_ $\\mathcal{C} = \\{c_1, ..., c_k\\}$ _is_\n",
    "$$\\phi(X, C) = \\sum_{x\\in\\mathcal{X}} \\min_{c\\in\\mathcal{C}} \\|x-c\\|_2^2$$\n",
    "6. Suppose that the `k-means++` algorithm chooses $c_3 = B$  - hence, $c_1 = A, c_2 = F, c_3 = B$. Determine the final clustering $C$ returned by `k-means++` based on the cluster centers $c_1, c_2, c_3$. Also argue how you determined that the algorithm has converged.\n",
    "\n",
    "Deliverables: Report all necessary computations in tasks above"
   ]
  },
  {
   "cell_type": "markdown",
   "metadata": {},
   "source": [
    "# 2. Sleep Well Revisited (25 points)"
   ]
  },
  {
   "cell_type": "markdown",
   "metadata": {},
   "source": [
    "Sleep is one of the most fundamental physiological processes, and abnormal sleeping patterns are associated with poor health. They may, for example, indicate brain- & heart diseases, obesity and diabetes. During sleep our brain goes through a series of changes between different _sleep stages_, which are characterized by specific brain and body activity patterns. _Sleep staging_ refers to the process of mapping these transitions over a night of sleep. This is of fundamental importance in sleep medicine, because the sleep patterns combined with other variables provide the basis for diagnosing many sleep related disorders (Kales and Rechtschaffen, 1968, Iber and AASM, 2007). The stages can be determined by measuring the neuronal activity in the cerebral cortex (via electroencephalography, EEG), eye movements (via electrooculography, EOG), and/or the activity of facial muscles (via electromyography, EMG) in a _polysomnography_ (PSG) study. The classification into stages is done manually. This is a difficult and time-consuming process, in which expert clinicians inspect and segment the typically 8–24 hours long multi-channel signals. Contiguous, fixed-length intervals of 30 seconds are considered, and each of these _segments_ is classified individually. Algorithmic sleep staging aims at automating this process. The state-of-the-art in algorithmic sleep staging is marked by deep neural networks, which can be highly accurate and robust, even compared to human performance, see the recent work by Perslev et al. (2019) and references therein.\n",
    "\n",
    "This assignment considers algorithmic sleep staging. The data is based on a single EEG channel from the Sleep-EDF-15 data set (Kemp et al., 2000, Goldberger et al., 2000). The input is given by an intermediate representation from the U-Time neural network architecture (Perslev et al., 2019), the targets are sleep stages. We created a training and test set, the inputs and the corresponding labels can be found in `X train.csv` and `y_train.csv` and `X_test.csv` and `y_test.csv`, respectively. Download and extract the data from https://github.com/christian-igel/ML/blob/main/data/Sleep-EDF-15_U-Time/."
   ]
  },
  {
   "cell_type": "markdown",
   "metadata": {},
   "source": [
    "## 2.1 Principal component analysis"
   ]
  },
  {
   "cell_type": "markdown",
   "metadata": {},
   "source": [
    "Perform a principal component analysis of the training data `X_train.csv`. Plot the eigenspectrum (see the plot on slide 28 of the _PCA_ slides for an example). How many components are necessary to \"explain 90% of the variance\"? Visualize the data by a scatter plot of the data projected on the first two principal components. Use different colors for the different classes in the plot.\n",
    "\n",
    "Deliverables: description of software used; plot of the eigenspectrum; number of components necessary to explain 90% of variance; scatter plot of the data projected on the first two principal components with different colors indicating the 5 different classes"
   ]
  },
  {
   "cell_type": "markdown",
   "metadata": {},
   "source": [
    "## 2.2 Clustering using k-means"
   ]
  },
  {
   "cell_type": "markdown",
   "metadata": {},
   "source": [
    "Perform 5-means clustering of `X_train.csv`. After that, project the cluster centers to the first two principal components of the training data. Then visualize the clusters by adding the cluster centers to the plot from the previous exercise. Briefly discuss the results.\n",
    "\n",
    "Deliverables: description of software used; one plot with cluster centers and data points; short discussion of results"
   ]
  },
  {
   "cell_type": "markdown",
   "metadata": {},
   "source": [
    "## 2.3 Clustering using k-means++"
   ]
  },
  {
   "cell_type": "markdown",
   "metadata": {},
   "source": [
    "Repeat the last part using 5-means++ and compare the resulting clusters with the ones obtained with regular 5-means. Are the clusters similar or different, and why? Provide argumentation, considering factors like the initialization of cluster centers, convergence behavior, and the impact on the clustering results.\n",
    "\n",
    "Deliverables: description of software used; one plot with cluster centers and data points; discussion of results and discussion on comparison"
   ]
  }
 ],
 "metadata": {
  "language_info": {
   "name": "python"
  }
 },
 "nbformat": 4,
 "nbformat_minor": 2
}
